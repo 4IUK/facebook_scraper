{
 "cells": [
  {
   "cell_type": "code",
   "execution_count": 1,
   "metadata": {},
   "outputs": [],
   "source": [
    "import pandas as pd"
   ]
  },
  {
   "cell_type": "code",
   "execution_count": 9,
   "metadata": {},
   "outputs": [],
   "source": [
    "df_1 = pd.read_csv('Data/temp0_38.csv')\n",
    "df_2 = pd.read_csv('Data/temp39_76.csv')\n",
    "df_3 = pd.read_csv('Data/temp77_99.csv')\n",
    "df_4 = pd.read_csv('Data/temp100_129.csv')\n",
    "df_5 = pd.read_csv('Data/temp130_141.csv')\n",
    "df_6 = pd.read_csv('Data/temp142_145.csv')\n",
    "df_7 = pd.read_csv('Data/temp146_185.csv')\n",
    "df_8 = pd.read_csv('Data/temp200_211.csv')\n",
    "df_9 = pd.read_csv('Data/temp212_215.csv')"
   ]
  },
  {
   "cell_type": "code",
   "execution_count": null,
   "metadata": {},
   "outputs": [],
   "source": [
    "result_df = pd.concat([df_1, df_2, df_3, df_4, df_5, df_6, df_7, df_8, df_9], ignore_index=True)"
   ]
  },
  {
   "cell_type": "code",
   "execution_count": null,
   "metadata": {},
   "outputs": [],
   "source": [
    "path = 'Data/temp.csv'\n",
    "result_df.to_csv(path, index=False)"
   ]
  }
 ],
 "metadata": {
  "kernelspec": {
   "display_name": "ml-env",
   "language": "python",
   "name": "python3"
  },
  "language_info": {
   "codemirror_mode": {
    "name": "ipython",
    "version": 3
   },
   "file_extension": ".py",
   "mimetype": "text/x-python",
   "name": "python",
   "nbconvert_exporter": "python",
   "pygments_lexer": "ipython3",
   "version": "3.12.0"
  }
 },
 "nbformat": 4,
 "nbformat_minor": 2
}
