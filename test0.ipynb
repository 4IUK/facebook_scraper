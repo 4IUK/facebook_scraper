{
 "cells": [
  {
   "cell_type": "code",
   "execution_count": 1,
   "metadata": {},
   "outputs": [],
   "source": [
    "import requests"
   ]
  },
  {
   "cell_type": "code",
   "execution_count": 2,
   "metadata": {},
   "outputs": [],
   "source": [
    "def get_reactions(post_id, access_token):\n",
    "    # Định dạng URL cho endpoint Graph API\n",
    "    url = f'https://graph.facebook.com/v13.0/{post_id}/reactions'\n",
    "    \n",
    "    # Thực hiện yêu cầu GET để lấy danh sách người phản ứng\n",
    "    params = {'access_token': access_token}\n",
    "    response = requests.get(url, params=params)\n",
    "\n",
    "    # Kiểm tra xem yêu cầu có thành công không\n",
    "    if response.status_code == 200:\n",
    "        data = response.json()\n",
    "        return data['data'] if 'data' in data else []\n",
    "    else:\n",
    "        print(f\"Error {response.status_code}: {response.text}\")\n",
    "        return None"
   ]
  },
  {
   "cell_type": "code",
   "execution_count": 3,
   "metadata": {},
   "outputs": [
    {
     "name": "stdout",
     "output_type": "stream",
     "text": [
      "Danh sách người phản ứng:\n"
     ]
    }
   ],
   "source": [
    "\n",
    "# Thay thế bằng ID thực tế của bài đăng và access token của bạn\n",
    "post_id = '732577415580263'\n",
    "access_token = 'EAABwzLixnjYBO4k5DLrD5Ct5ZBCnqqaW2PW3xn5ySrY0wxFfsmkjZAjuaCRbKlpB5WpnqMW593SYzrC3NLW7sR3kztwVOzO3Y8KF8AZBWeOON3ZAUZCMFW1OnJLHHBpGptsupVgORB9LJHFZAdX80rjvj0isPZA1G3LLBUAM7zgvJp7aao5QnemQgZCdZBjt6z5RRavJ48XyDPDIZD'\n",
    "\n",
    "# Gọi hàm để lấy danh sách người phản ứng\n",
    "reactions = get_reactions(post_id, access_token)\n",
    "\n",
    "# In danh sách người phản ứng\n",
    "if reactions is not None:\n",
    "    print(\"Danh sách người phản ứng:\")\n",
    "    for reaction in reactions:\n",
    "        print(reaction)\n"
   ]
  }
 ],
 "metadata": {
  "kernelspec": {
   "display_name": "ml-env",
   "language": "python",
   "name": "python3"
  },
  "language_info": {
   "codemirror_mode": {
    "name": "ipython",
    "version": 3
   },
   "file_extension": ".py",
   "mimetype": "text/x-python",
   "name": "python",
   "nbconvert_exporter": "python",
   "pygments_lexer": "ipython3",
   "version": "3.12.0"
  }
 },
 "nbformat": 4,
 "nbformat_minor": 2
}
