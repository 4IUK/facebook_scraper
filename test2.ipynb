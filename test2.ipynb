{
 "cells": [
  {
   "cell_type": "code",
   "execution_count": 1,
   "metadata": {},
   "outputs": [
    {
     "name": "stderr",
     "output_type": "stream",
     "text": [
      "/home/vnn04/miniconda3/envs/ml-env/lib/python3.12/site-packages/tqdm/auto.py:21: TqdmWarning: IProgress not found. Please update jupyter and ipywidgets. See https://ipywidgets.readthedocs.io/en/stable/user_install.html\n",
      "  from .autonotebook import tqdm as notebook_tqdm\n"
     ]
    }
   ],
   "source": [
    "import pandas as pd\n",
    "import facebook_scraper as fs"
   ]
  },
  {
   "cell_type": "code",
   "execution_count": 13,
   "metadata": {},
   "outputs": [],
   "source": [
    "df = pd.read_csv('post.csv')"
   ]
  },
  {
   "cell_type": "code",
   "execution_count": 14,
   "metadata": {},
   "outputs": [
    {
     "name": "stdout",
     "output_type": "stream",
     "text": [
      "   original_request_url                                           post_url  \\\n",
      "0       728409392663732  https://facebook.com/story.php?story_fbid=7284...   \n",
      "\n",
      "           post_id                                               text  \\\n",
      "0  728409392663732  Có thể Kang mà hội đồng Kang nói tới không phả...   \n",
      "\n",
      "                                           post_text  shared_text  \\\n",
      "0  Có thể Kang mà hội đồng Kang nói tới không phả...          NaN   \n",
      "\n",
      "   original_text                 time   timestamp  \\\n",
      "0            NaN  2023-11-07 22:56:31  1699372591   \n",
      "\n",
      "                                               image  ...  \\\n",
      "0  https://scontent.fhph1-2.fna.fbcdn.net/v/t39.3...  ...   \n",
      "\n",
      "                                           w3_fb_url  \\\n",
      "0  https://www.facebook.com/story.php?story_fbid=...   \n",
      "\n",
      "                                           reactions reaction_count with  \\\n",
      "0  {'thích': 1522, 'yêu thích': 12, 'haha': 14, '...           1561  NaN   \n",
      "\n",
      "           page_id  sharers         image_id            image_ids  was_live  \\\n",
      "0  380890675304768      NaN  728409152663756  ['728409152663756']     False   \n",
      "\n",
      "                 fetched_time  \n",
      "0  2023-11-11 20:48:17.209424  \n",
      "\n",
      "[1 rows x 52 columns]\n"
     ]
    }
   ],
   "source": [
    "print(df)"
   ]
  },
  {
   "cell_type": "code",
   "execution_count": 15,
   "metadata": {},
   "outputs": [
    {
     "data": {
      "text/plain": [
       "Index(['original_request_url', 'post_url', 'post_id', 'text', 'post_text',\n",
       "       'shared_text', 'original_text', 'time', 'timestamp', 'image',\n",
       "       'image_lowquality', 'images', 'images_description', 'images_lowquality',\n",
       "       'images_lowquality_description', 'video', 'video_duration_seconds',\n",
       "       'video_height', 'video_id', 'video_quality', 'video_size_MB',\n",
       "       'video_thumbnail', 'video_watches', 'video_width', 'likes', 'comments',\n",
       "       'shares', 'link', 'links', 'user_id', 'username', 'user_url', 'is_live',\n",
       "       'factcheck', 'shared_post_id', 'shared_time', 'shared_user_id',\n",
       "       'shared_username', 'shared_post_url', 'available', 'comments_full',\n",
       "       'reactors', 'w3_fb_url', 'reactions', 'reaction_count', 'with',\n",
       "       'page_id', 'sharers', 'image_id', 'image_ids', 'was_live',\n",
       "       'fetched_time'],\n",
       "      dtype='object')"
      ]
     },
     "execution_count": 15,
     "metadata": {},
     "output_type": "execute_result"
    }
   ],
   "source": [
    "df.columns"
   ]
  },
  {
   "cell_type": "code",
   "execution_count": 9,
   "metadata": {},
   "outputs": [
    {
     "name": "stdout",
     "output_type": "stream",
     "text": [
      "0    https://facebook.com/sieuanhhungMarvel?eav=AfY...\n",
      "Name: user_url, dtype: object\n"
     ]
    }
   ],
   "source": [
    "print(df['user_url'])"
   ]
  }
 ],
 "metadata": {
  "kernelspec": {
   "display_name": "ml-env",
   "language": "python",
   "name": "python3"
  },
  "language_info": {
   "codemirror_mode": {
    "name": "ipython",
    "version": 3
   },
   "file_extension": ".py",
   "mimetype": "text/x-python",
   "name": "python",
   "nbconvert_exporter": "python",
   "pygments_lexer": "ipython3",
   "version": "3.12.0"
  }
 },
 "nbformat": 4,
 "nbformat_minor": 2
}
